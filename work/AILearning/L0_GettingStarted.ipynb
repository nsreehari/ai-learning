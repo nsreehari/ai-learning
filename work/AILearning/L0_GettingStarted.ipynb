{
 "cells": [
  {
   "attachments": {},
   "cell_type": "markdown",
   "metadata": {
    "nteract": {
     "transient": {
      "deleting": false
     }
    }
   },
   "source": [
    "# OpenAI Quickstart"
   ]
  },
  {
   "cell_type": "code",
   "execution_count": 1,
   "metadata": {
    "collapsed": false,
    "gather": {
     "logged": 1674829434433
    },
    "jupyter": {
     "outputs_hidden": false,
     "source_hidden": false
    },
    "nteract": {
     "transient": {
      "deleting": false
     }
    }
   },
   "outputs": [],
   "source": [
    "import re\n",
    "import requests\n",
    "import sys\n",
    "import os\n",
    "import tiktoken\n",
    "from openai import OpenAI, AzureOpenAI\n"
   ]
  },
  {
   "cell_type": "code",
   "execution_count": 2,
   "metadata": {},
   "outputs": [
    {
     "name": "stdout",
     "output_type": "stream",
     "text": [
      "{'type': 'aoai', 'aoai_args': {'azure_endpoint': 'https://srn.openai.azure.com', 'api_version': '2024-02-15-preview', 'api_key': '4bc46719d6b6493cbee80056d1a56546'}, 'model': 'gpt-35-turbo'}\n"
     ]
    }
   ],
   "source": [
    "from oai_config import OAIConfig\n",
    "\n",
    "oaiconfig = OAIConfig() # OAIConfig(endpoint_url=endpoint_url, model_name=model_name)\n",
    "config = oaiconfig.get_config()\n",
    "#print(config)"
   ]
  },
  {
   "cell_type": "code",
   "execution_count": 3,
   "metadata": {
    "gather": {
     "logged": 1674742720788
    },
    "nteract": {
     "transient": {
      "deleting": false
     }
    }
   },
   "outputs": [],
   "source": [
    "client = AzureOpenAI(**(config[\"aoai_args\"])) if config[\"type\"] == \"aoai\" else OpenAI()\n",
    "# Select the General Purpose curie model for text\n",
    "model = config[\"model\"]"
   ]
  },
  {
   "cell_type": "code",
   "execution_count": 4,
   "metadata": {
    "collapsed": false,
    "gather": {
     "logged": 1674494935186
    },
    "jupyter": {
     "outputs_hidden": false,
     "source_hidden": false
    },
    "nteract": {
     "transient": {
      "deleting": false
     }
    }
   },
   "outputs": [
    {
     "data": {
      "text/plain": [
       "\"As an AI language model, I can't offer a personal opinion, but I can tell you that the usage of the Oxford comma, also known as the serial comma, is a matter of style. Some style guides require its use in all series of three or more items, while others don't. For example, The Associated Press (AP) style guide doesn't use the Oxford comma, while The Chicago Manual of Style and the MLA Handbook recommend its use. If you are writing for a specific publication or organization, it's best to follow their style guidelines. If no guidelines exist, it's up to your personal preference and consistency throughout your writing.\""
      ]
     },
     "execution_count": 4,
     "metadata": {},
     "output_type": "execute_result"
    }
   ],
   "source": [
    "# Create your first prompt\n",
    "text_prompt = \"Should oxford commas always be used?\"\n",
    "\n",
    "response = client.chat.completions.create(\n",
    "  model=model,\n",
    "  messages = [{\"role\":\"system\", \"content\":\"You are a helpful assistant.\"},\n",
    "               {\"role\":\"user\",\"content\":text_prompt},])\n",
    "\n",
    "response.choices[0].message.content"
   ]
  }
 ],
 "metadata": {
  "kernel_info": {
   "name": "python310-sdkv2"
  },
  "kernelspec": {
   "display_name": "Python 3 (ipykernel)",
   "language": "python",
   "name": "python3"
  },
  "language_info": {
   "codemirror_mode": {
    "name": "ipython",
    "version": 3
   },
   "file_extension": ".py",
   "mimetype": "text/x-python",
   "name": "python",
   "nbconvert_exporter": "python",
   "pygments_lexer": "ipython3",
   "version": "3.10.11"
  },
  "microsoft": {
   "host": {
    "AzureML": {
     "notebookHasBeenCompleted": true
    }
   }
  },
  "nteract": {
   "version": "nteract-front-end@1.0.0"
  }
 },
 "nbformat": 4,
 "nbformat_minor": 4
}
